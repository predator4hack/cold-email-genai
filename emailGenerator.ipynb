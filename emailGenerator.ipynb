{
 "cells": [
  {
   "cell_type": "code",
   "execution_count": 1,
   "id": "91794a23-d666-4f69-b4e5-08c22b1971ee",
   "metadata": {},
   "outputs": [
    {
     "name": "stdout",
     "output_type": "stream",
     "text": [
      "Note: you may need to restart the kernel to use updated packages.\n"
     ]
    }
   ],
   "source": [
    "%pip install -qU langchain_community beautifulsoup4"
   ]
  },
  {
   "cell_type": "code",
   "execution_count": 5,
   "id": "a32d7adb-ebc2-42b0-861d-f322a3d85f95",
   "metadata": {},
   "outputs": [
    {
     "name": "stdin",
     "output_type": "stream",
     "text": [
      "Enter your Groq API key:  ········\n"
     ]
    }
   ],
   "source": [
    "import getpass\n",
    "import os\n",
    "\n",
    "if \"GROQ_API_KEY\" not in os.environ:\n",
    "    os.environ[\"GROQ_API_KEY\"] = getpass.getpass(\"Enter your Groq API key: \")"
   ]
  },
  {
   "cell_type": "code",
   "execution_count": 6,
   "id": "62ca397c-1065-428e-8b68-14c5fcb5fc83",
   "metadata": {},
   "outputs": [],
   "source": [
    "from langchain_groq import ChatGroq\n",
    "\n",
    "llm = ChatGroq(\n",
    "    model=\"mixtral-8x7b-32768\",\n",
    "    temperature=0,\n",
    "    max_tokens=None,\n",
    "    timeout=None,\n",
    "    max_retries=2,\n",
    "    # other params...\n",
    ")"
   ]
  },
  {
   "cell_type": "code",
   "execution_count": 3,
   "id": "9bebc177-bfa3-4015-a885-34b8ebe3624f",
   "metadata": {},
   "outputs": [
    {
     "name": "stdout",
     "output_type": "stream",
     "text": [
      "\n",
      "         Job Details | Atlassian                                  Close   View this page in your language?   All languages   Choose your language    中文   Deutsch   English   Español   Français   Italiano   한국어   Nederlands   日本語   Português   Pусский   Polski                            Get it free     Products    Featured    Developers    Product Managers    IT professionals    Business Teams    Leadership Teams       Featured   Developers   Product Managers   IT professionals   Business Teams   Leadership Teams    See all products       Featured            Jira  Flexible project management             Confluence  Knowledge, all in one place             Jira Service Management  High-velocity service delivery             Trello  Organized & visualized work             Rovo NEW  Unlock enterprise knowledge             Jira Product Discovery NEW  Capture & prioritize ideas             Compass NEW  Optimize software health             Guard NEW  Enhanced cloud security             Loom NEW  Quick, async video updates          Developers            Jira  Flexible project management             Bitbucket  Collaborative code repos             Compass NEW  Optimize software health          Product Managers            Jira  Flexible project management             Confluence  Knowledge, all in one place             Jira Product Discovery NEW  Capture & prioritize ideas          IT professionals            Jira Service Management  High-velocity service delivery             Guard NEW  Enhanced cloud security          Business Teams            Jira  Flexible project management             Confluence  Knowledge, all in one place             Trello  Organized & visualized work             Loom NEW  Quick, async video updates          Leadership Teams            Jira  Flexible project management             Confluence  Knowledge, all in one place             Loom NEW  Quick, async video updates             Jira Align  Enterprise-wide work planning & value             Back      Teams          Teams            Software  Ship high-quality, innovative software faster                Marketing  Collaborative strategies for marketing success                IT  Deliver exceptional operations and support services.               solution     Work Management     IT Service Management     Agile & DevOps       By team size     Enterprise     Small business     Startup     Non-profit       By industry     Retail     Telecommunications     Professional services     Government            Back      Why Atlassian          Why Atlassian        Integrations  Connect thousands of apps to your Atlassian products        Customers  Case studies & stories powered by teamwork        FedRAMP  Compliant solutions for the public sector        Resilience  Enterprise-grade & highly performant infrastructure        Platform  Our deeply integrated, reliable & secure platform        Trust center  Ensure your data’s security, compliance & availability            Back      Resources          Resources        Customer Support  Ask questions, report bugs & give us feedback        Find Partners  Consulting, training & product customization support        Migration Program  Step-by-step guidance for your Atlassian cloud migration        University  Learn and expand your skill set for all things Atlassian           support     General inquiries     Product Advice     Partner support     Enterprise support           Technical Support     Pricing and Billing     Developer support     Purchasing & Licensing       learn     Project Management     Agile     Community     Get Started           Project Collaboration     Team Playbook     Product Documentation            Back      Enterprise    More + Less -     Get it free                   Jira   Flexible project management              Jira Service Management   High-velocity service delivery              Confluence   Knowledge, all in one place        See all products        Get it free                  Back                  Get it free                  Company              Customers     Careers          Careers Home Apply Engineering Careers Early Careers Awards Team Anywhere DEI and Sustainability Candidate Resources Talent Community       Back      Investors     Events     Blog     Newsroom     Contact    More + Less -               Careers              Browse Jobs     Our Teams           Engineering AI and Machine Learning Sales All Teams       Back      Early Careers     Team Anywhere     DEI and Sustainability     Candidate Resources           Candidate Resources Home Tips for Applying Interviewing Career Growth Benefits and Perks Talent Community Awards       Back     More + Less -           AI Researcher, 2025 Graduate U.S.  Apply for this job    Working at AtlassianAtlassians can choose where they work – whether in an office, from home, or a combination of the two. That way, Atlassians have more control over supporting their family, personal goals, and other priorities. We can hire people in any country where we have a legal entity. Interviews and onboarding are conducted virtually, a part of being a distributed-first company.Your future teamThe mission of Atlassian is to unleash the potential of every team. Our software products help teams all over the planet and our solutions are designed for all types of work. Team collaboration through our tools makes what may be impossible alone, possible together. AI/ML is significantly transforming how teams come together to plan, track, and deliver work across software and business teams using our products. We are looking for Machine learning engineers to further this mission and help make teams more productive leveraging AI across our product portfolio.About the role:Join our cutting-edge Machine Learning Research team at Atlassian where you'll have the opportunity to work on advanced Machine Learning (ML) and Artificial Intelligence (AI) technologies, particularly focusing on areas such as Large language models (LLMs), Generative AI, Search, Conversational Agents, and AI Optimization. You’ll be part of a team that pioneers innovations to address complex real-world problems, developing state-of-the-art AI solutions that will ultimately drive impact for Enterprises.Your daily responsibilities will encompass a broad spectrum of tasks such as designing system and model architectures, conducting rigorous experimentation and model evaluations. You will be responsible for application of AI/ML to various product problems to improve Atlassian products and actively contribute to Atlassian Intelligence features.Required QualificationsBachelor's degree or above in Computer Science or a relevant technical field.Currently has or is in the process of obtaining a PhD degree in Computer Science or a relevant technical field. Strong foundation in AI/ML, LLMs, Optimization and related techniques.Experience with research, publishing, building and scaling machine learning models using large amounts of data.Agile development mindset, appreciating the benefit of constant iteration and improvement.Must be able to obtain work authorization in the country of employment at the time of hire and maintain ongoing work authorization during employment. Desired Skills and AttributesDemonstrate proficiency in Python programming and ability to write clean, efficient and well-documented code.Has expertise in managing data using Python libraries such as NumPy, Pandas, Matplotlib, in addition to leveraging models from Hugging Face and has practical knowledge of applied machine learning and deep learning frameworks, like PyTorch.Demonstrated exposure to natural language processing (NLP), Computer Vision (CV), Reinforcement Learning (RL), and AI OptimizationFamiliarity with state-of-the-art research in machine learning and AI, as evidenced by relevant coursework, publications, or projects.Excels in solving ambiguous and complex problems, being able to navigate through uncertain situations, breaking down complex challenges into manageable components and developing innovative solutionsCompensationAt Atlassian, we strive to design equitable, explainable, and competitive compensation programs. To support this goal, the baseline of our range is higher than that of the typical market range, but in turn we expect to hire most candidates near this baseline. Base pay within the range is ultimately determined by a candidate's skills, expertise, or experience. In the United States, we have three geographic pay zones. For this role, our current base pay ranges for new hires in each zone are:Zone A: $173,300 - $231,100Zone B: $156,000 - $208,000Zone C: $143,900 - $191,800This role may also be eligible for benefits, bonuses, commissions, and equity.Please visit go.atlassian.com/payzones for more information on which locations are included in each of our geographic pay zones. However, please confirm the zone for your specific location with your recruiter.Our perks & benefitsAtlassian offers a variety of perks and benefits to support you, your family and to help you engage with your local community. Our offerings include health coverage, paid volunteer days, wellness resources, and so much more. Visit go.atlassian.com/perksandbenefits to learn more.About AtlassianAt Atlassian, we're motivated by a common goal: to unleash the potential of every team. Our software products help teams all over the planet and our solutions are designed for all types of work. Team collaboration through our tools makes what may be impossible alone, possible together.We believe that the unique contributions of all Atlassians create our success. To ensure that our products and culture continue to incorporate everyone's perspectives and experience, we never discriminate based on race, religion, national origin, gender identity or expression, sexual orientation, age, or marital, veteran, or disability status. All your information will be kept confidential according to EEO guidelines.To provide you the best experience, we can support with accommodations or adjustments at any stage of the recruitment process. Simply inform our Recruitment team during your conversation with them.To learn more about our culture and hiring process, visit go.atlassian.com/crh.      Apply for this job        Join the Atlassian Talent Community Don’t see an exact role match? No problem! Join our Talent Community and stay up-to-date on company and careers updates relevant to your career.  Join now               Choose your language Deutsch English Español Français Italiano 한국어 Nederlands 日本語 Polski Português русский 中文      Privacy Policy     Notice at Collection     Limit the Use of My Sensitive Personal Information     Terms      Impressum     Copyright © 2025 Atlassian                                  \n",
      "\n"
     ]
    }
   ],
   "source": [
    "from langchain_community.document_loaders import WebBaseLoader\n",
    "\n",
    "loader = WebBaseLoader(\"https://www.atlassian.com/company/careers/details/17350\")\n",
    "page_data = loader.load().pop().page_content\n",
    "print(page_data)"
   ]
  },
  {
   "cell_type": "code",
   "execution_count": 7,
   "id": "ca43f96e-46aa-4610-89c3-3909c26bf969",
   "metadata": {},
   "outputs": [
    {
     "data": {
      "text/plain": [
       "AIMessage(content='[\\n  {\\n    \"role\": \"Machine learning engineers\",\\n    \"experience\": \"Bachelor\\'s degree or above in Computer Science or a relevant technical field. Currently has or is in the process of obtaining a PhD degree in Computer Science or a relevant technical field.\",\\n    \"skills\": [\\n      \"Strong foundation in AI/ML, LLMs, Optimization and related techniques\",\\n      \"Experience with research, publishing, building and scaling machine learning models using large amounts of data\",\\n      \"Agile development mindset, appreciating the benefit of constant iteration and improvement\",\\n      \"Python programming\",\\n      \"Managing data using Python libraries such as NumPy, Pandas, Matplotlib\",\\n      \"Applied machine learning and deep learning frameworks, like PyTorch\",\\n      \"Natural language processing (NLP), Computer Vision (CV), Reinforcement Learning (RL), and AI Optimization\"\\n    ],\\n    \"description\": \"Join our cutting-edge Machine Learning Research team at Atlassian where you\\'ll have the opportunity to work on advanced Machine Learning (ML) and Artificial Intelligence (AI) technologies, particularly focusing on areas such as Large language models (LLMs), Generative AI, Search, Conversational Agents, and AI Optimization. You’ll be part of a team that pioneers innovations to address complex real-world problems, developing state-of-the-art AI solutions that will ultimately drive impact for Enterprises. Your daily responsibilities will encompass a broad spectrum of tasks such as designing system and model architectures, conducting rigorous experimentation and model evaluations. You will be responsible for application of AI/ML to various product problems to improve Atlassian products and actively contribute to Atlassian Intelligence features.\"\\n  }\\n]', additional_kwargs={}, response_metadata={'token_usage': {'completion_tokens': 385, 'prompt_tokens': 2324, 'total_tokens': 2709, 'completion_time': 0.597446041, 'prompt_time': 0.319807962, 'queue_time': 0.01953850800000001, 'total_time': 0.917254003}, 'model_name': 'mixtral-8x7b-32768', 'system_fingerprint': 'fp_c5f20b5bb1', 'finish_reason': 'stop', 'logprobs': None}, id='run-657503a0-5469-4a39-9fb9-65fabd23f76d-0', usage_metadata={'input_tokens': 2324, 'output_tokens': 385, 'total_tokens': 2709})"
      ]
     },
     "execution_count": 7,
     "metadata": {},
     "output_type": "execute_result"
    }
   ],
   "source": [
    "from langchain_core.prompts import PromptTemplate\n",
    "\n",
    "prompt_extract = PromptTemplate.from_template(\n",
    "        \"\"\"\n",
    "        ### SCRAPED TEXT FROM WEBSITE:\n",
    "        {page_data}\n",
    "        ### INSTRUCTION:\n",
    "        The scraped text is from the career's page of a website.\n",
    "        Your job is to extract the job postings and return them in JSON format containing the \n",
    "        following keys: `role`, `experience`, `skills` and `description`.\n",
    "        Only return the valid JSON.\n",
    "        ### VALID JSON (NO PREAMBLE):    \n",
    "        \"\"\"\n",
    ")\n",
    "\n",
    "chain_extract = prompt_extract | llm \n",
    "res = chain_extract.invoke(input={'page_data':page_data})\n",
    "res"
   ]
  },
  {
   "cell_type": "code",
   "execution_count": 9,
   "id": "54da778b-a0d8-4737-a0df-8a317bfff84e",
   "metadata": {},
   "outputs": [
    {
     "data": {
      "text/plain": [
       "[{'role': 'Machine learning engineers',\n",
       "  'experience': \"Bachelor's degree or above in Computer Science or a relevant technical field. Currently has or is in the process of obtaining a PhD degree in Computer Science or a relevant technical field.\",\n",
       "  'skills': ['Strong foundation in AI/ML, LLMs, Optimization and related techniques',\n",
       "   'Experience with research, publishing, building and scaling machine learning models using large amounts of data',\n",
       "   'Agile development mindset, appreciating the benefit of constant iteration and improvement',\n",
       "   'Python programming',\n",
       "   'Managing data using Python libraries such as NumPy, Pandas, Matplotlib',\n",
       "   'Applied machine learning and deep learning frameworks, like PyTorch',\n",
       "   'Natural language processing (NLP), Computer Vision (CV), Reinforcement Learning (RL), and AI Optimization'],\n",
       "  'description': \"Join our cutting-edge Machine Learning Research team at Atlassian where you'll have the opportunity to work on advanced Machine Learning (ML) and Artificial Intelligence (AI) technologies, particularly focusing on areas such as Large language models (LLMs), Generative AI, Search, Conversational Agents, and AI Optimization. You’ll be part of a team that pioneers innovations to address complex real-world problems, developing state-of-the-art AI solutions that will ultimately drive impact for Enterprises. Your daily responsibilities will encompass a broad spectrum of tasks such as designing system and model architectures, conducting rigorous experimentation and model evaluations. You will be responsible for application of AI/ML to various product problems to improve Atlassian products and actively contribute to Atlassian Intelligence features.\"}]"
      ]
     },
     "execution_count": 9,
     "metadata": {},
     "output_type": "execute_result"
    }
   ],
   "source": [
    "from langchain_core.output_parsers import JsonOutputParser\n",
    "\n",
    "json_parser = JsonOutputParser()\n",
    "json_res = json_parser.parse(res.content)\n",
    "json_res"
   ]
  },
  {
   "cell_type": "code",
   "execution_count": 10,
   "id": "0230cd60-8cd0-4a74-b09d-c0e4c836f7cb",
   "metadata": {},
   "outputs": [
    {
     "data": {
      "text/html": [
       "<div>\n",
       "<style scoped>\n",
       "    .dataframe tbody tr th:only-of-type {\n",
       "        vertical-align: middle;\n",
       "    }\n",
       "\n",
       "    .dataframe tbody tr th {\n",
       "        vertical-align: top;\n",
       "    }\n",
       "\n",
       "    .dataframe thead th {\n",
       "        text-align: right;\n",
       "    }\n",
       "</style>\n",
       "<table border=\"1\" class=\"dataframe\">\n",
       "  <thead>\n",
       "    <tr style=\"text-align: right;\">\n",
       "      <th></th>\n",
       "      <th>Techstack</th>\n",
       "      <th>Links</th>\n",
       "    </tr>\n",
       "  </thead>\n",
       "  <tbody>\n",
       "    <tr>\n",
       "      <th>0</th>\n",
       "      <td>React, Node.js, MongoDB</td>\n",
       "      <td>https://example.com/react-portfolio</td>\n",
       "    </tr>\n",
       "    <tr>\n",
       "      <th>1</th>\n",
       "      <td>Angular,.NET, SQL Server</td>\n",
       "      <td>https://example.com/angular-portfolio</td>\n",
       "    </tr>\n",
       "    <tr>\n",
       "      <th>2</th>\n",
       "      <td>Vue.js, Ruby on Rails, PostgreSQL</td>\n",
       "      <td>https://example.com/vue-portfolio</td>\n",
       "    </tr>\n",
       "    <tr>\n",
       "      <th>3</th>\n",
       "      <td>Python, Django, MySQL</td>\n",
       "      <td>https://example.com/python-portfolio</td>\n",
       "    </tr>\n",
       "    <tr>\n",
       "      <th>4</th>\n",
       "      <td>Java, Spring Boot, Oracle</td>\n",
       "      <td>https://example.com/java-portfolio</td>\n",
       "    </tr>\n",
       "    <tr>\n",
       "      <th>5</th>\n",
       "      <td>Flutter, Firebase, GraphQL</td>\n",
       "      <td>https://example.com/flutter-portfolio</td>\n",
       "    </tr>\n",
       "    <tr>\n",
       "      <th>6</th>\n",
       "      <td>WordPress, PHP, MySQL</td>\n",
       "      <td>https://example.com/wordpress-portfolio</td>\n",
       "    </tr>\n",
       "    <tr>\n",
       "      <th>7</th>\n",
       "      <td>Magento, PHP, MySQL</td>\n",
       "      <td>https://example.com/magento-portfolio</td>\n",
       "    </tr>\n",
       "    <tr>\n",
       "      <th>8</th>\n",
       "      <td>React Native, Node.js, MongoDB</td>\n",
       "      <td>https://example.com/react-native-portfolio</td>\n",
       "    </tr>\n",
       "    <tr>\n",
       "      <th>9</th>\n",
       "      <td>iOS, Swift, Core Data</td>\n",
       "      <td>https://example.com/ios-portfolio</td>\n",
       "    </tr>\n",
       "    <tr>\n",
       "      <th>10</th>\n",
       "      <td>Android, Java, Room Persistence</td>\n",
       "      <td>https://example.com/android-portfolio</td>\n",
       "    </tr>\n",
       "    <tr>\n",
       "      <th>11</th>\n",
       "      <td>Kotlin, Android, Firebase</td>\n",
       "      <td>https://example.com/kotlin-android-portfolio</td>\n",
       "    </tr>\n",
       "    <tr>\n",
       "      <th>12</th>\n",
       "      <td>Android TV, Kotlin, Android NDK</td>\n",
       "      <td>https://example.com/android-tv-portfolio</td>\n",
       "    </tr>\n",
       "    <tr>\n",
       "      <th>13</th>\n",
       "      <td>iOS, Swift, ARKit</td>\n",
       "      <td>https://example.com/ios-ar-portfolio</td>\n",
       "    </tr>\n",
       "    <tr>\n",
       "      <th>14</th>\n",
       "      <td>Cross-platform, Xamarin, Azure</td>\n",
       "      <td>https://example.com/xamarin-portfolio</td>\n",
       "    </tr>\n",
       "    <tr>\n",
       "      <th>15</th>\n",
       "      <td>Backend, Kotlin, Spring Boot</td>\n",
       "      <td>https://example.com/kotlin-backend-portfolio</td>\n",
       "    </tr>\n",
       "    <tr>\n",
       "      <th>16</th>\n",
       "      <td>Frontend, TypeScript, Angular</td>\n",
       "      <td>https://example.com/typescript-frontend-portfolio</td>\n",
       "    </tr>\n",
       "    <tr>\n",
       "      <th>17</th>\n",
       "      <td>Full-stack, JavaScript, Express.js</td>\n",
       "      <td>https://example.com/full-stack-js-portfolio</td>\n",
       "    </tr>\n",
       "    <tr>\n",
       "      <th>18</th>\n",
       "      <td>Machine Learning, Python, TensorFlow</td>\n",
       "      <td>https://example.com/ml-python-portfolio</td>\n",
       "    </tr>\n",
       "    <tr>\n",
       "      <th>19</th>\n",
       "      <td>DevOps, Jenkins, Docker</td>\n",
       "      <td>https://example.com/devops-portfolio</td>\n",
       "    </tr>\n",
       "  </tbody>\n",
       "</table>\n",
       "</div>"
      ],
      "text/plain": [
       "                               Techstack  \\\n",
       "0                React, Node.js, MongoDB   \n",
       "1               Angular,.NET, SQL Server   \n",
       "2      Vue.js, Ruby on Rails, PostgreSQL   \n",
       "3                  Python, Django, MySQL   \n",
       "4              Java, Spring Boot, Oracle   \n",
       "5             Flutter, Firebase, GraphQL   \n",
       "6                  WordPress, PHP, MySQL   \n",
       "7                    Magento, PHP, MySQL   \n",
       "8         React Native, Node.js, MongoDB   \n",
       "9                  iOS, Swift, Core Data   \n",
       "10       Android, Java, Room Persistence   \n",
       "11             Kotlin, Android, Firebase   \n",
       "12       Android TV, Kotlin, Android NDK   \n",
       "13                     iOS, Swift, ARKit   \n",
       "14        Cross-platform, Xamarin, Azure   \n",
       "15          Backend, Kotlin, Spring Boot   \n",
       "16         Frontend, TypeScript, Angular   \n",
       "17    Full-stack, JavaScript, Express.js   \n",
       "18  Machine Learning, Python, TensorFlow   \n",
       "19               DevOps, Jenkins, Docker   \n",
       "\n",
       "                                                Links  \n",
       "0                 https://example.com/react-portfolio  \n",
       "1               https://example.com/angular-portfolio  \n",
       "2                   https://example.com/vue-portfolio  \n",
       "3                https://example.com/python-portfolio  \n",
       "4                  https://example.com/java-portfolio  \n",
       "5               https://example.com/flutter-portfolio  \n",
       "6             https://example.com/wordpress-portfolio  \n",
       "7               https://example.com/magento-portfolio  \n",
       "8          https://example.com/react-native-portfolio  \n",
       "9                   https://example.com/ios-portfolio  \n",
       "10              https://example.com/android-portfolio  \n",
       "11       https://example.com/kotlin-android-portfolio  \n",
       "12           https://example.com/android-tv-portfolio  \n",
       "13               https://example.com/ios-ar-portfolio  \n",
       "14              https://example.com/xamarin-portfolio  \n",
       "15       https://example.com/kotlin-backend-portfolio  \n",
       "16  https://example.com/typescript-frontend-portfolio  \n",
       "17        https://example.com/full-stack-js-portfolio  \n",
       "18            https://example.com/ml-python-portfolio  \n",
       "19               https://example.com/devops-portfolio  "
      ]
     },
     "execution_count": 10,
     "metadata": {},
     "output_type": "execute_result"
    }
   ],
   "source": [
    "import pandas as pd\n",
    "\n",
    "df = pd.read_csv(\"my_portfolio.csv\")\n",
    "df"
   ]
  },
  {
   "cell_type": "code",
   "execution_count": 11,
   "id": "91470807-4865-4008-ad2f-bcfb0112dc26",
   "metadata": {},
   "outputs": [],
   "source": [
    "import uuid\n",
    "import chromadb\n",
    "\n",
    "client = chromadb.PersistentClient('vectorstore')\n",
    "collection = client.get_or_create_collection(name=\"portfolio\")\n",
    "\n",
    "if not collection.count():\n",
    "    for _, row in df.iterrows():\n",
    "        collection.add(documents=row[\"Techstack\"],\n",
    "                       metadatas={\"links\": row[\"Links\"]},\n",
    "                       ids=[str(uuid.uuid4())])\n"
   ]
  },
  {
   "cell_type": "code",
   "execution_count": 13,
   "id": "633a3605-446b-4c9c-9c19-0432c376014e",
   "metadata": {},
   "outputs": [
    {
     "data": {
      "text/plain": [
       "[[{'links': 'https://example.com/react-portfolio'},\n",
       "  {'links': 'https://example.com/react-native-portfolio'}]]"
      ]
     },
     "execution_count": 13,
     "metadata": {},
     "output_type": "execute_result"
    }
   ],
   "source": [
    "links = collection.query(query_texts=['experience in react'], n_results=2).get('metadatas', [])\n",
    "links"
   ]
  },
  {
   "cell_type": "code",
   "execution_count": 14,
   "id": "68f6f665-4d22-45c8-9419-ebeb8e918bc0",
   "metadata": {},
   "outputs": [],
   "source": [
    "job = json_res"
   ]
  },
  {
   "cell_type": "code",
   "execution_count": 19,
   "id": "c35bce08-b840-491f-b401-f9ea10d2ae2c",
   "metadata": {},
   "outputs": [
    {
     "data": {
      "text/plain": [
       "['Strong foundation in AI/ML, LLMs, Optimization and related techniques',\n",
       " 'Experience with research, publishing, building and scaling machine learning models using large amounts of data',\n",
       " 'Agile development mindset, appreciating the benefit of constant iteration and improvement',\n",
       " 'Python programming',\n",
       " 'Managing data using Python libraries such as NumPy, Pandas, Matplotlib',\n",
       " 'Applied machine learning and deep learning frameworks, like PyTorch',\n",
       " 'Natural language processing (NLP), Computer Vision (CV), Reinforcement Learning (RL), and AI Optimization']"
      ]
     },
     "execution_count": 19,
     "metadata": {},
     "output_type": "execute_result"
    }
   ],
   "source": [
    "job[0]['skills']"
   ]
  },
  {
   "cell_type": "code",
   "execution_count": 20,
   "id": "81149310-4f6e-4451-b6c6-2e250abe1864",
   "metadata": {},
   "outputs": [
    {
     "name": "stdout",
     "output_type": "stream",
     "text": [
      "Subject: Expert Machine Learning Solutions for Atlassian's Advanced AI Technologies\n",
      "\n",
      "Dear Hiring Manager,\n",
      "\n",
      "I hope this email finds you well. I came across the Machine Learning Engineer job posting for your Machine Learning Research team at Atlassian, and I am excited to introduce AtliQ as a potential partner to fulfill your needs.\n",
      "\n",
      "AtliQ is an AI & Software Consulting company specializing in automating business processes through tailored AI solutions. Our team of experts has empowered numerous enterprises with customized solutions, driving scalability, process optimization, cost reduction, and overall efficiency.\n",
      "\n",
      "Our capabilities align perfectly with the job description you provided. Our Machine Learning Engineers possess:\n",
      "\n",
      "1. A strong foundation in AI/ML, LLMs, Optimization, and related techniques\n",
      "2. Experience in research, publishing, building, and scaling machine learning models using large datasets\n",
      "3. Proficiency in Python programming, data management using Python libraries (NumPy, Pandas, Matplotlib), and applied machine learning and deep learning frameworks (PyTorch)\n",
      "4. Expertise in Natural Language Processing (NLP), Computer Vision (CV), Reinforcement Learning (RL), and AI Optimization\n",
      "\n",
      "To showcase our expertise, I would like to highlight some relevant projects from our portfolio:\n",
      "\n",
      "1. [React Portfolio](https://example.com/react-portfolio)\n",
      "2. [React Native Portfolio](https://example.com/react-native-portfolio)\n",
      "\n",
      "Our team has designed and implemented systems and model architectures, conducted rigorous experimentation and model evaluations, and applied AI/ML to various product problems to improve solutions. We are confident that our experience and skills will contribute significantly to Atlassian Intelligence features.\n",
      "\n",
      "I would be delighted to discuss how AtliQ can support your Machine Learning Research team in addressing complex real-world problems and driving impact for Enterprises. Please let me know a suitable time for a call.\n",
      "\n",
      "Thank you for considering AtliQ as a partner. I look forward to the opportunity to work together.\n",
      "\n",
      "Best regards,\n",
      "\n",
      "Mohan\n",
      "Business Development Executive\n",
      "AtliQ\n"
     ]
    }
   ],
   "source": [
    "prompt_email = PromptTemplate.from_template(\n",
    "        \"\"\"\n",
    "        ### JOB DESCRIPTION:\n",
    "        {job_description}\n",
    "        \n",
    "        ### INSTRUCTION:\n",
    "        You are Mohan, a business development executive at AtliQ. AtliQ is an AI & Software Consulting company dedicated to facilitating\n",
    "        the seamless integration of business processes through automated tools. \n",
    "        Over our experience, we have empowered numerous enterprises with tailored solutions, fostering scalability, \n",
    "        process optimization, cost reduction, and heightened overall efficiency. \n",
    "        Your job is to write a cold email to the client regarding the job mentioned above describing the capability of AtliQ \n",
    "        in fulfilling their needs.\n",
    "        Also add the most relevant ones from the following links to showcase Atliq's portfolio: {link_list}\n",
    "        Remember you are Mohan, BDE at AtliQ. \n",
    "        Do not provide a preamble.\n",
    "        ### EMAIL (NO PREAMBLE):\n",
    "        \n",
    "        \"\"\"\n",
    "        )\n",
    "\n",
    "chain_email = prompt_email | llm\n",
    "res = chain_email.invoke({\"job_description\": str(job), \"link_list\": links})\n",
    "print(res.content)"
   ]
  },
  {
   "cell_type": "code",
   "execution_count": null,
   "id": "caa6173c-0158-4db2-bd2a-11930a8e65ae",
   "metadata": {},
   "outputs": [],
   "source": []
  }
 ],
 "metadata": {
  "kernelspec": {
   "display_name": "Python 3 (ipykernel)",
   "language": "python",
   "name": "python3"
  },
  "language_info": {
   "codemirror_mode": {
    "name": "ipython",
    "version": 3
   },
   "file_extension": ".py",
   "mimetype": "text/x-python",
   "name": "python",
   "nbconvert_exporter": "python",
   "pygments_lexer": "ipython3",
   "version": "3.12.7"
  }
 },
 "nbformat": 4,
 "nbformat_minor": 5
}
