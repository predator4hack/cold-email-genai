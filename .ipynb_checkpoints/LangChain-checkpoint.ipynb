{
 "cells": [
  {
   "cell_type": "code",
   "execution_count": 1,
   "id": "aa961a92-29cb-48ab-89a1-572ca46c01f4",
   "metadata": {},
   "outputs": [
    {
     "name": "stdout",
     "output_type": "stream",
     "text": [
      "Note: you may need to restart the kernel to use updated packages.\n"
     ]
    }
   ],
   "source": [
    "%pip install -qU langchain-groq"
   ]
  },
  {
   "cell_type": "code",
   "execution_count": 2,
   "id": "71ba97a7-6d56-499d-9ea4-e7eeb6b87514",
   "metadata": {},
   "outputs": [
    {
     "name": "stdin",
     "output_type": "stream",
     "text": [
      "Enter your Groq API key:  ········\n"
     ]
    }
   ],
   "source": [
    "import getpass\n",
    "import os\n",
    "\n",
    "if \"GROQ_API_KEY\" not in os.environ:\n",
    "    os.environ[\"GROQ_API_KEY\"] = getpass.getpass(\"Enter your Groq API key: \")"
   ]
  },
  {
   "cell_type": "code",
   "execution_count": 6,
   "id": "6d7aec0c-3178-4e28-8dcf-5aef0f0fb7d5",
   "metadata": {},
   "outputs": [],
   "source": [
    "from langchain_groq import ChatGroq\n",
    "\n",
    "llm = ChatGroq(\n",
    "    model=\"mixtral-8x7b-32768\",\n",
    "    temperature=0,\n",
    "    max_tokens=None,\n",
    "    timeout=None,\n",
    "    max_retries=2,\n",
    "    # other params...\n",
    ")"
   ]
  },
  {
   "cell_type": "code",
   "execution_count": 8,
   "id": "637d97d2-f1b7-4bd0-83c0-e499578c71ec",
   "metadata": {},
   "outputs": [
    {
     "data": {
      "text/plain": [
       "'Neil Armstrong. He was an American astronaut and naval aviator who became the first person to walk on the Moon on July 20, 1969, as the commander of the Apollo 11 mission. Armstrong\\'s first words upon stepping onto the lunar surface were, \"That\\'s one small step for man, one giant leap for mankind.\" His career included service as a naval aviator in the Korean War and as an experimental test pilot at the National Advisory Committee for Aeronautics (NACA) and its successor agency, NASA. He was awarded the Presidential Medal of Freedom by President Richard Nixon in 1969. Armstrong died in 2012 at the age of 82.'"
      ]
     },
     "execution_count": 8,
     "metadata": {},
     "output_type": "execute_result"
    }
   ],
   "source": [
    "response = llm.invoke('The first person to walk on the moon was')\n",
    "response.content"
   ]
  },
  {
   "cell_type": "code",
   "execution_count": 35,
   "id": "0ec7bc56-5059-4dd2-9ba7-8919212c1366",
   "metadata": {},
   "outputs": [],
   "source": [
    "def get_job_description(input_text):\n",
    "    if input_text.startswith('http'):\n",
    "        try:\n",
    "            response = requests.get(input_text)\n",
    "            soup = BeautifulSoup(response.text, 'html.parser')\n",
    "            return ' '.join(soup.get_text().split()[:1000])\n",
    "        except:\n",
    "            return \"Could not scrape URL, please paste description directly\"\n",
    "    return input_text"
   ]
  },
  {
   "cell_type": "code",
   "execution_count": 36,
   "id": "4b64f2a9-7118-4ee6-888e-cc6d2fde5f10",
   "metadata": {},
   "outputs": [],
   "source": [
    "import requests\n",
    "from bs4 import BeautifulSoup"
   ]
  },
  {
   "cell_type": "code",
   "execution_count": 37,
   "id": "9d44b76f-40e1-4ffb-9bef-360024f42db6",
   "metadata": {},
   "outputs": [
    {
     "name": "stdout",
     "output_type": "stream",
     "text": [
      "fastcompany.comPlease enable JS and disable any ad blocker\n"
     ]
    },
    {
     "data": {
      "text/plain": [
       "'fastcompany.comPlease enable JS and disable any ad blocker'"
      ]
     },
     "execution_count": 37,
     "metadata": {},
     "output_type": "execute_result"
    }
   ],
   "source": [
    "URL = 'https://www.fastcompany.com/91285846/hollywood-ai-enabled-perfection-the-brutalist'\n",
    "get_job_description(URL)"
   ]
  },
  {
   "cell_type": "code",
   "execution_count": 28,
   "id": "603a13bf-1cf7-4b72-8325-918e27069b74",
   "metadata": {},
   "outputs": [
    {
     "name": "stdout",
     "output_type": "stream",
     "text": [
      "403\n"
     ]
    }
   ],
   "source": [
    "\n",
    "URL = 'https://www.fastcompany.com/91285846/hollywood-ai-enabled-perfection-the-brutalist'\n",
    "headers = {\n",
    "    'User-Agent': 'Mozilla/5.0 (Windows NT 10.0; Win64; x64) AppleWebKit/537.36 (KHTML, like Gecko) Chrome/91.0.4472.124 Safari/537.36'\n",
    "}\n",
    "\n",
    "response = requests.get(URL, headers=headers)\n",
    "print(response.status_code)"
   ]
  },
  {
   "cell_type": "code",
   "execution_count": null,
   "id": "1861353b-175e-474e-a11b-11dd4f86ba2a",
   "metadata": {},
   "outputs": [],
   "source": []
  }
 ],
 "metadata": {
  "kernelspec": {
   "display_name": "Python 3 (ipykernel)",
   "language": "python",
   "name": "python3"
  },
  "language_info": {
   "codemirror_mode": {
    "name": "ipython",
    "version": 3
   },
   "file_extension": ".py",
   "mimetype": "text/x-python",
   "name": "python",
   "nbconvert_exporter": "python",
   "pygments_lexer": "ipython3",
   "version": "3.12.7"
  }
 },
 "nbformat": 4,
 "nbformat_minor": 5
}
