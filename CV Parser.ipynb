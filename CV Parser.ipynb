{
 "cells": [
  {
   "cell_type": "code",
   "execution_count": 35,
   "id": "435ea8d3-adef-4eaa-9f6d-731c00a9d10e",
   "metadata": {},
   "outputs": [],
   "source": [
    "from langchain_docling import DoclingLoader\n",
    "\n",
    "FILE_PATH = \"Chandan_Kumar_resume_SW_ML.pdf\"\n",
    "\n",
    "loader = DoclingLoader(file_path=FILE_PATH)"
   ]
  },
  {
   "cell_type": "code",
   "execution_count": null,
   "id": "f57d6172-bbf5-48a9-8431-47485ddf6909",
   "metadata": {},
   "outputs": [],
   "source": [
    "import getpass\n",
    "import os\n",
    "\n",
    "if \"GROQ_API_KEY\" not in os.environ:\n",
    "    os.environ[\"GROQ_API_KEY\"] = getpass.getpass(\"Enter your Groq API key: \")"
   ]
  },
  {
   "cell_type": "code",
   "execution_count": 36,
   "id": "f2e4426f-0a65-4542-828a-165885d7c670",
   "metadata": {},
   "outputs": [
    {
     "name": "stderr",
     "output_type": "stream",
     "text": [
      "Could not load the custom kernel for multi-scale deformable attention: /home/chandan/.cache/torch_extensions/py312_cu124/MultiScaleDeformableAttention/MultiScaleDeformableAttention.so: cannot open shared object file: No such file or directory\n",
      "Could not load the custom kernel for multi-scale deformable attention: /home/chandan/.cache/torch_extensions/py312_cu124/MultiScaleDeformableAttention/MultiScaleDeformableAttention.so: cannot open shared object file: No such file or directory\n",
      "Could not load the custom kernel for multi-scale deformable attention: /home/chandan/.cache/torch_extensions/py312_cu124/MultiScaleDeformableAttention/MultiScaleDeformableAttention.so: cannot open shared object file: No such file or directory\n",
      "Could not load the custom kernel for multi-scale deformable attention: /home/chandan/.cache/torch_extensions/py312_cu124/MultiScaleDeformableAttention/MultiScaleDeformableAttention.so: cannot open shared object file: No such file or directory\n",
      "Could not load the custom kernel for multi-scale deformable attention: /home/chandan/.cache/torch_extensions/py312_cu124/MultiScaleDeformableAttention/MultiScaleDeformableAttention.so: cannot open shared object file: No such file or directory\n",
      "Could not load the custom kernel for multi-scale deformable attention: /home/chandan/.cache/torch_extensions/py312_cu124/MultiScaleDeformableAttention/MultiScaleDeformableAttention.so: cannot open shared object file: No such file or directory\n"
     ]
    }
   ],
   "source": [
    "docs = loader.load()"
   ]
  },
  {
   "cell_type": "code",
   "execution_count": 42,
   "id": "cf45060c-6937-4c53-98ad-154b0cd22a4f",
   "metadata": {},
   "outputs": [],
   "source": [
    "from langchain_community.document_loaders import PyPDFLoader\n",
    "\n",
    "FILE_PATH = \"Chandan_Kumar_resume_SW_ML.pdf\"\n",
    "\n",
    "loader = PyPDFLoader(FILE_PATH)\n",
    "pages = loader.load()\n",
    "full_text = \"\\n\".join([p.page_content for p in pages])"
   ]
  },
  {
   "cell_type": "code",
   "execution_count": 43,
   "id": "de191747-bbee-41bb-bbb9-87be3cb73a28",
   "metadata": {},
   "outputs": [
    {
     "data": {
      "text/plain": [
       "'CHANDAN KUMAR\\nApplied Data Scientist| chandankum2440@gmail.com | +91 8105289226 | linkedin.com/in/chandan-kumar-a8a50a198\\nEDUCATION\\nNational Institute Of Technology Karnataka May 2023\\nBachelor’s Degree in Electrical & Electronics Engineering 8.23/10.00\\nTECHNICAL SKILLS\\nLanguages: Python, C, C++, R, Java, JavaScript, SQL\\nDeveloper Tools: Git, Docker, AWS, Azure, GCP , FAISS, Kubernetes, OpenShift, Airﬂow, Kafka, Redis, Hadoop, Apache Spark\\nTechnologies/Frameworks: Pytorch, Tensorﬂow, Keras, NL TK, spaCy, OpenCV, Sklearn, Pandas, Matplotlib, RAG, LangGraph,\\nLangChain, MLﬂow, KubeFlow, Qdrant, ChromaDB, Hugging Face, TorchServe, Tensorﬂow Serving, MLOps, GPT, GAN\\nCoursework: Machine Learning, Deep Learning, Computer Vision, Probability & Statistics, Generative AI, GPU Optimization\\nEXPERIENCE\\nWells Fargo| Software Engineer, Machine Learning July 2023 - Ongoing\\n• Devised a questionnaire response automation tool, reducing survey completion time from months to minutes by\\nautomating the extraction and answering questionnaire data utilizing retrieval-augmented generation(RAG) and LLMs\\n• Implemented an intelligent document processing workﬂow usingAzure Document Intelligence, vector search, and\\nLangChain, improving overall operational efﬁciency by83% and cutting down the manual intervention by75%.\\n• Designed and deployed a survey response containerized application using aStreamlit frontend, FastAPI backend, and\\nPostgres database, onAzure Container Instance, optimizing the development turnaround time by70%\\n• Applied prompt engineeringby experimenting with various prompt structures to reﬁneOCR parsed data, achieving a30%\\nimprovement in data consistency and a42% increase in accurate survey responses using LLMs.\\nOnePlus R&D (OPlus Group)| Innovation Intern May 2022 – July 2022\\n• Engineered an AI-powered web-based image annotation platform using cutting-edge object detection frameworks like\\nYOLOv7, Detectron2, andAzure AI Vision APIthat reduced manual labeling effort by60%\\n• Integrated Mask R-CNNfor automated image segmentation, improving mask prediction accuracy by12%\\n• Saved the company approximately$500K on Amazon Mechanical Turk licensing for image annotation\\n• Implemented an active learning feedback loop to periodically retrain models with user-corrected annotations, boosting\\nmean Average Precision(mAP) from35% to 38% over two months\\nGoogle Summer Of Code| Student Developer - JdeRobot May 2021 – August 2021\\n• Engineered a web platform enabling users to write, debug, and simulate, incorporating computer vision models such as\\nYOLO, Detectron2 solve tasks in three simulation playgrounds: Pick and place objects, Line following, and drone landing.\\n• Developed an AI-driven evaluation framework leveragingVision Transformers (ViTs)and Explainable AI (XAI)to analyze\\nmodel behavior, providing real-time performance insights and increasing user engagement by30%\\nPROJECTS\\nWiDS Datathon 2024| Sklearn, Tensorﬂow, NL TK, AutoML, Optuna, Numpy, Matplotlib, Pandas June 2024\\n• Implemented an ensemble of 15 models, including CatBoost, XGBoost, and Ridge, to predict Metastatic Cancer\\nDiagnosis Period, achieving a score of80.507 and Global Rank 2among 500+ teams on the Kaggle leaderboard\\n• Utilized Feature Importance table, SHAP values, and ANOVA to shortlist 11 key features out of 150+ for the models. Used\\nSequential Feature Selector to identify best-performing features for tree-based models.\\n• Implemented various data imputation and feature engineering techniques to enhance model performance.\\nCold Emails Using GenAI| LangChain, GroqCloud, Kubernetes, Streamlit, Hugging Face, DeepSeek-R1, llama-3.3-70bJan 2025\\n• Built GenAI-powered job matching and automated cold email system using LangChain and HuggingFace transformers.\\n• Implemented RAG architecture for personalized messages& created CI/CD pipelines with GitHub Actions and Docker\\n• Designed Kubernetes-managed microservices with 99.9% uptime on Google Cloud Run\\nIntern Intel| Generative AI, FAISS, JavaScript, React, NodeJs, MongoDB, Search.io API February 2022\\n• Designed and implemented a web application facilitating research enthusiasts to search for internship roles aligning\\nwith their ﬁeld of interest on the website of the top 10+ international colleges.\\n• Integrated custom AI search pipeline, user authentication, and automated email notiﬁcation for an internship opening\\nunder a professor, lab, or college marked as favorites by the user.\\nLEADERSHIP / EXTRACURRICULAR\\n• CodeForces: Expert, Global Rank Round # 820(Div3):339 of 47K participants,CodeChef: Starters Div 2 Global Rank:99\\n• Google Kick Start- Global Rank:715 (Round C),OPPO SES Codejam’22- Global Rank:7 among 5K+ participants\\n• Track Prize Winnerof Hackverse’22, an international hackathon conducted by NITK\\n• Global Rank 2in WIDS Datathon-2 2024 among 500+ teams from across 100+ countries\\n• Team Captain, Robocon Center for System Design (CSD) NITK: Managing an exclusive robotics club(45 members)'"
      ]
     },
     "execution_count": 43,
     "metadata": {},
     "output_type": "execute_result"
    }
   ],
   "source": [
    "full_text"
   ]
  },
  {
   "cell_type": "code",
   "execution_count": 37,
   "id": "fe0798e9-4b57-4e0c-b929-f725142ffce5",
   "metadata": {},
   "outputs": [
    {
     "name": "stdout",
     "output_type": "stream",
     "text": [
      "CHANDAN KUMAR\n",
      "Applied Data Scientist | chandankum2440@gmail.com | +91 8105289226 | linkedin.com/in/chandan-kumar-a8a50a198\n",
      "\n",
      "National Institute Of Technology Karnataka\n",
      "Bachelor's Degree in Electrical & Electronics Engineering\n",
      "\n",
      "TECHNICAL SKILLS\n",
      "Languages : Python, C, C++, R, Java, JavaScript, SQL\n",
      "Developer Tools : Git, Docker, AWS, Azure, GCP , FAISS, Kubernetes, OpenShift, Air/uniFB02ow, Kafka, Redis, Hadoop, Apache Spark Technologies/Frameworks : Pytorch, Tensor/uniFB02ow, Keras, NL TK, spaCy, OpenCV, Sklearn, Pandas, Matplotlib, RAG, LangGraph, LangChain, ML/uniFB02ow, KubeFlow, Qdrant, ChromaDB, Hugging Face, TorchServe, Tensor/uniFB02ow Serving, MLOps, GPT, GAN Coursework : Machine Learning, Deep Learning, Computer Vision, Probability & Statistics, Generative AI, GPU Optimization\n",
      "\n",
      "July 2023 - Ongoing\n",
      "· Devised a questionnaire response automation tool, reducing survey completion time from months to minutes by automating the extraction and answering questionnaire data utilizing retrieval-augmented generation(RAG) and LLMs\n",
      "· Designed and deployed a survey response containerized application using a Streamlit frontend, FastAPI backend, and Postgres database, on Azure Container Instance , optimizing the development turnaround time by 70%\n",
      "· Implemented an intelligent document processing work/uniFB02ow using Azure Document Intelligence , vector search, and LangChain, improving overall operational ef/uniFB01ciency by 83% and cutting down the manual intervention by 75% .\n",
      "· Applied prompt engineering by experimenting with various prompt structures to re/uniFB01ne OCR parsed data, achieving a 30% improvement in data consistency and a 42% increase in accurate survey responses using LLMs.\n",
      "\n",
      "OnePlus R&D (OPlus Group) | Innovation Intern\n",
      "May 2022 - July 2022\n",
      "· Engineered an AI-powered web-based image annotation platform using cutting-edge object detection frameworks like YOLOv7 Detectron2 , , and Azure AI Vision API that reduced manual labeling effort by 60%\n",
      "· Saved the company approximately $500K on Amazon Mechanical Turk licensing for image annotation\n",
      "· Integrated Mask R-CNN for automated image segmentation, improving mask prediction accuracy by 12%\n",
      "· Implemented an active learning feedback loop to periodically retrain models with user-corrected annotations, boosting mean Average Precision(mAP) from 35% to 38% over two months\n",
      "\n",
      "May 2021 - August 2021\n",
      "· Engineered a web platform enabling users to write, debug, and simulate, incorporating computer vision models such as YOLO, Detectron2 solve tasks in three simulation playgrounds: Pick and place objects, Line following, and drone landing.\n",
      "· Developed an AI-driven evaluation framework leveraging Vision Transformers (ViTs) and Explainable AI (XAI) to analyze model behavior, providing real-time performance insights and increasing user engagement by 30%\n",
      "\n",
      "WiDS Datathon 2024 | Sklearn, Tensor/uniFB02ow, NL TK, AutoML, Optuna, Numpy, Matplotlib, Pandas\n",
      "June 2024\n",
      "· Implemented an ensemble of 15 models, including CatBoost, XGBoost, and Ridge, to predict Metastatic Cancer Diagnosis Period, achieving a score of 80.507 and Global Rank 2 among 500+ teams on the Kaggle leaderboard\n",
      "· Utilized Feature Importance table, SHAP values, and ANOVA to shortlist 11 key features out of 150+ for the models. Used Sequential Feature Selector to identify best-performing features for tree-based models.\n",
      "· Implemented various data imputation and feature engineering techniques to enhance model performance.\n",
      "\n",
      "Cold Emails Using GenAI | LangChain, GroqCloud, Kubernetes, Streamlit, Hugging Face, DeepSeek-R1, llama-3.3-70b Jan 2025\n",
      "· Built GenAI-powered job matching and automated cold email system using LangChain and HuggingFace transformers.\n",
      "· Implemented RAG architecture for personalized messages& created CI/CD pipelines with GitHub Actions and Docker\n",
      "· Designed Kubernetes-managed microservices with 99.9% uptime on Google Cloud Run\n",
      "\n",
      "Intern Intel | Generative AI, FAISS, JavaScript, React, NodeJs, MongoDB, Search.io API\n",
      "February 2022\n",
      "· Designed and implemented a web application facilitating research enthusiasts to search for internship roles aligning with their /uniFB01eld of interest on the website of the top 10+ international colleges.\n",
      "· Integrated custom AI search pipeline, user authentication, and automated email noti/uniFB01cation for an internship opening under a professor, lab, or college marked as favorites by the user.\n",
      "\n",
      "LEADERSHIP / EXTRACURRICULAR\n",
      "· CodeForces Expert : , Global Rank Round # 820(Div3): 339 of 47K participants, CodeChef : Starters Div 2 Global Rank: 99\n",
      "· Track Prize Winner of Hackverse'22 , an international hackathon conducted by NITK\n",
      "· Google Kick Start - Global Rank: 715 (Round C), OPPO SES Codejam'22 - Global Rank: 7 among 5K+ participants\n",
      "· Global Rank 2 in WIDS Datathon-2 2024 among 500+ teams from across 100+ countries\n",
      "· Team Captain, Robocon Center for System Design (CSD) NITK: Managing an exclusive robotics club( 45 members )\n",
      "May 2023 8.23/10.00\n",
      "\n"
     ]
    }
   ],
   "source": [
    "page_content = \"\"\n",
    "for d in docs:\n",
    "    print(d.page_content + \"\\n\")\n",
    "    page_content += d.page_content + \"\\n\""
   ]
  },
  {
   "cell_type": "code",
   "execution_count": 48,
   "id": "543d0ddc-3995-4026-8dd0-ccbfb12a2213",
   "metadata": {},
   "outputs": [
    {
     "data": {
      "text/plain": [
       "AIMessage(content='```json\\n{\\n  \"skills\": {\\n    \"languages\": [\"Python\", \"C\", \"C++\", \"R\", \"Java\", \"JavaScript\", \"SQL\"],\\n    \"developerTools\": [\"Git\", \"Docker\", \"AWS\", \"Azure\", \"GCP\", \"FAISS\", \"Kubernetes\", \"OpenShift\", \"Airflow\", \"Kafka\", \"Redis\", \"Hadoop\", \"Apache Spark\"],\\n    \"technologiesFrameworks\": [\"Pytorch\", \"Tensorflow\", \"Keras\", \"NLTK\", \"spaCy\", \"OpenCV\", \"Sklearn\", \"Pandas\", \"Matplotlib\", \"RAG\", \"LangGraph\", \"LangChain\", \"MLflow\", \"KubeFlow\", \"Qdrant\", \"ChromaDB\", \"Hugging Face\", \"TorchServe\", \"Tensorflow Serving\", \"MLOps\", \"GPT\", \"GAN\"]\\n  },\\n  \"experience\": [\\n    {\\n      \"company\": \"Wells Fargo\",\\n      \"position\": \"Software Engineer, Machine Learning\",\\n      \"duration\": \"July 2023 - Ongoing\",\\n      \"achievements\": [\\n        \"Devised a questionnaire response automation tool, reducing survey completion time from months to minutes\",\\n        \"Implemented an intelligent document processing workflow, improving overall operational efficiency by 83% and cutting down manual intervention by 75%\",\\n        \"Designed and deployed a survey response containerized application, optimizing development turnaround time by 70%\",\\n        \"Applied prompt engineering, achieving a 30% improvement in data consistency and a 42% increase in accurate survey responses\"\\n      ]\\n    },\\n    {\\n      \"company\": \"OnePlus R&D (OPlus Group)\",\\n      \"position\": \"Innovation Intern\",\\n      \"duration\": \"May 2022 - July 2022\",\\n      \"achievements\": [\\n        \"Engineered an AI-powered web-based image annotation platform, reducing manual labeling effort by 60%\",\\n        \"Integrated Mask R-CNN for automated image segmentation, improving mask prediction accuracy by 12%\",\\n        \"Saved the company approximately $500K on Amazon Mechanical Turk licensing\",\\n        \"Implemented an active learning feedback loop, boosting mean Average Precision (mAP) from 35% to 38% over two months\"\\n      ]\\n    },\\n    {\\n      \"company\": \"Google Summer Of Code\",\\n      \"position\": \"Student Developer - JdeRobot\",\\n      \"duration\": \"May 2021 - August 2021\",\\n      \"achievements\": [\\n        \"Engineered a web platform enabling users to write, debug, and simulate, incorporating computer vision models\",\\n        \"Developed an AI-driven evaluation framework, providing real-time performance insights and increasing user engagement by 30%\"\\n      ]\\n    }\\n  ],\\n  \"projects\": [\\n    {\\n      \"name\": \"WiDS Datathon 2024\",\\n      \"technologies\": [\"Sklearn\", \"Tensorflow\", \"NLTK\", \"AutoML\", \"Optuna\", \"Numpy\", \"Matplotlib\", \"Pandas\"],\\n      \"achievements\": [\\n        \"Implemented an ensemble of 15 models to predict Metastatic Cancer Diagnosis Period, achieving a score of 80.507 and Global Rank 2 among 500+ teams\"\\n      ]\\n    },\\n    {\\n      \"name\": \"Cold Emails Using GenAI\",\\n      \"technologies\": [\"LangChain\", \"GroqCloud\", \"Kubernetes\", \"Streamlit\", \"Hugging Face\", \"DeepSeek-R1\", \"llama-3.3-70b\"],\\n      \"achievements\": [\\n        \"Built GenAI-powered job matching and automated cold email system\",\\n        \"Implemented RAG architecture for personalized messages and created CI/CD pipelines\"\\n      ]\\n    },\\n    {\\n      \"name\": \"Intern Intel\",\\n      \"technologies\": [\"Generative AI\", \"FAISS\", \"JavaScript\", \"React\", \"NodeJs\", \"MongoDB\", \"Search.io API\"],\\n      \"achievements\": [\\n        \"Designed and implemented a web application facilitating research enthusiasts to search for internship roles\"\\n      ]\\n    }\\n  ],\\n  \"achievements\": [\\n    \"CodeForces: Expert, Global Rank Round # 820 (Div3): 339 of 47K participants\",\\n    \"CodeChef: Starters Div 2 Global Rank: 99\",\\n    \"Google Kick Start- Global Rank: 715 (Round C)\",\\n    \"OPPO SES Codejam\\'22- Global Rank: 7 among 5K+ participants\",\\n    \"Track Prize Winner of Hackverse\\'22\",\\n    \"Global Rank 2 in WIDS Datathon-2 2024 among 500+ teams from across 100+ countries\",\\n    \"Team Captain, Robocon Center for System Design (CSD) NITK\"\\n  ]\\n}\\n```', additional_kwargs={}, response_metadata={'token_usage': {'completion_tokens': 984, 'prompt_tokens': 1298, 'total_tokens': 2282, 'completion_time': 3.578181818, 'prompt_time': 0.055274522, 'queue_time': 0.322901606, 'total_time': 3.63345634}, 'model_name': 'llama-3.3-70b-versatile', 'system_fingerprint': 'fp_76dc6cf67d', 'finish_reason': 'stop', 'logprobs': None}, id='run-4195888c-d164-41ad-baf7-831be902bc21-0', usage_metadata={'input_tokens': 1298, 'output_tokens': 984, 'total_tokens': 2282})"
      ]
     },
     "execution_count": 48,
     "metadata": {},
     "output_type": "execute_result"
    }
   ],
   "source": [
    "from langchain_core.prompts import PromptTemplate\n",
    "\n",
    "prompt_extract = PromptTemplate.from_template(\n",
    "        \"\"\"\n",
    "        ### SCRAPED TEXT FROM RESUME:\n",
    "        {resume_data}\n",
    "        ### INSTRUCTION:\n",
    "        The scraped text is from a resume.\n",
    "        Your job is to structure the data in JSON format containing the \n",
    "        following keys: `skills`, `experience`, `projects`, and `achievements`.\n",
    "        Only return the valid JSON.\n",
    "        ### VALID JSON (NO PREAMBLE):    \n",
    "        \"\"\"\n",
    ")\n",
    "\n",
    "chain_extract = prompt_extract | llm \n",
    "res = chain_extract.invoke(input={'resume_data': full_text})\n",
    "res"
   ]
  },
  {
   "cell_type": "code",
   "execution_count": 49,
   "id": "071361f5-4b95-4a86-8fb0-cbc10ca380db",
   "metadata": {},
   "outputs": [
    {
     "data": {
      "text/plain": [
       "{'skills': {'languages': ['Python',\n",
       "   'C',\n",
       "   'C++',\n",
       "   'R',\n",
       "   'Java',\n",
       "   'JavaScript',\n",
       "   'SQL'],\n",
       "  'developerTools': ['Git',\n",
       "   'Docker',\n",
       "   'AWS',\n",
       "   'Azure',\n",
       "   'GCP',\n",
       "   'FAISS',\n",
       "   'Kubernetes',\n",
       "   'OpenShift',\n",
       "   'Airflow',\n",
       "   'Kafka',\n",
       "   'Redis',\n",
       "   'Hadoop',\n",
       "   'Apache Spark'],\n",
       "  'technologiesFrameworks': ['Pytorch',\n",
       "   'Tensorflow',\n",
       "   'Keras',\n",
       "   'NLTK',\n",
       "   'spaCy',\n",
       "   'OpenCV',\n",
       "   'Sklearn',\n",
       "   'Pandas',\n",
       "   'Matplotlib',\n",
       "   'RAG',\n",
       "   'LangGraph',\n",
       "   'LangChain',\n",
       "   'MLflow',\n",
       "   'KubeFlow',\n",
       "   'Qdrant',\n",
       "   'ChromaDB',\n",
       "   'Hugging Face',\n",
       "   'TorchServe',\n",
       "   'Tensorflow Serving',\n",
       "   'MLOps',\n",
       "   'GPT',\n",
       "   'GAN']},\n",
       " 'experience': [{'company': 'Wells Fargo',\n",
       "   'position': 'Software Engineer, Machine Learning',\n",
       "   'duration': 'July 2023 - Ongoing',\n",
       "   'achievements': ['Devised a questionnaire response automation tool, reducing survey completion time from months to minutes',\n",
       "    'Implemented an intelligent document processing workflow, improving overall operational efficiency by 83% and cutting down manual intervention by 75%',\n",
       "    'Designed and deployed a survey response containerized application, optimizing development turnaround time by 70%',\n",
       "    'Applied prompt engineering, achieving a 30% improvement in data consistency and a 42% increase in accurate survey responses']},\n",
       "  {'company': 'OnePlus R&D (OPlus Group)',\n",
       "   'position': 'Innovation Intern',\n",
       "   'duration': 'May 2022 - July 2022',\n",
       "   'achievements': ['Engineered an AI-powered web-based image annotation platform, reducing manual labeling effort by 60%',\n",
       "    'Integrated Mask R-CNN for automated image segmentation, improving mask prediction accuracy by 12%',\n",
       "    'Saved the company approximately $500K on Amazon Mechanical Turk licensing',\n",
       "    'Implemented an active learning feedback loop, boosting mean Average Precision (mAP) from 35% to 38% over two months']},\n",
       "  {'company': 'Google Summer Of Code',\n",
       "   'position': 'Student Developer - JdeRobot',\n",
       "   'duration': 'May 2021 - August 2021',\n",
       "   'achievements': ['Engineered a web platform enabling users to write, debug, and simulate, incorporating computer vision models',\n",
       "    'Developed an AI-driven evaluation framework, providing real-time performance insights and increasing user engagement by 30%']}],\n",
       " 'projects': [{'name': 'WiDS Datathon 2024',\n",
       "   'technologies': ['Sklearn',\n",
       "    'Tensorflow',\n",
       "    'NLTK',\n",
       "    'AutoML',\n",
       "    'Optuna',\n",
       "    'Numpy',\n",
       "    'Matplotlib',\n",
       "    'Pandas'],\n",
       "   'achievements': ['Implemented an ensemble of 15 models to predict Metastatic Cancer Diagnosis Period, achieving a score of 80.507 and Global Rank 2 among 500+ teams']},\n",
       "  {'name': 'Cold Emails Using GenAI',\n",
       "   'technologies': ['LangChain',\n",
       "    'GroqCloud',\n",
       "    'Kubernetes',\n",
       "    'Streamlit',\n",
       "    'Hugging Face',\n",
       "    'DeepSeek-R1',\n",
       "    'llama-3.3-70b'],\n",
       "   'achievements': ['Built GenAI-powered job matching and automated cold email system',\n",
       "    'Implemented RAG architecture for personalized messages and created CI/CD pipelines']},\n",
       "  {'name': 'Intern Intel',\n",
       "   'technologies': ['Generative AI',\n",
       "    'FAISS',\n",
       "    'JavaScript',\n",
       "    'React',\n",
       "    'NodeJs',\n",
       "    'MongoDB',\n",
       "    'Search.io API'],\n",
       "   'achievements': ['Designed and implemented a web application facilitating research enthusiasts to search for internship roles']}],\n",
       " 'achievements': ['CodeForces: Expert, Global Rank Round # 820 (Div3): 339 of 47K participants',\n",
       "  'CodeChef: Starters Div 2 Global Rank: 99',\n",
       "  'Google Kick Start- Global Rank: 715 (Round C)',\n",
       "  \"OPPO SES Codejam'22- Global Rank: 7 among 5K+ participants\",\n",
       "  \"Track Prize Winner of Hackverse'22\",\n",
       "  'Global Rank 2 in WIDS Datathon-2 2024 among 500+ teams from across 100+ countries',\n",
       "  'Team Captain, Robocon Center for System Design (CSD) NITK']}"
      ]
     },
     "execution_count": 49,
     "metadata": {},
     "output_type": "execute_result"
    }
   ],
   "source": [
    "from langchain_core.output_parsers import JsonOutputParser\n",
    "\n",
    "json_parser = JsonOutputParser()\n",
    "json_res = json_parser.parse(res.content)\n",
    "json_res"
   ]
  },
  {
   "cell_type": "code",
   "execution_count": null,
   "id": "d40dc864-a147-4526-beb6-3f6d8014872d",
   "metadata": {},
   "outputs": [],
   "source": []
  },
  {
   "cell_type": "code",
   "execution_count": 25,
   "id": "537b6d18-0883-4088-95a8-c3e9b6998ab6",
   "metadata": {},
   "outputs": [],
   "source": [
    "from langchain_groq import ChatGroq\n",
    "\n",
    "llm = ChatGroq(\n",
    "    model=\"llama-3.3-70b-versatile\",\n",
    "    temperature=0,\n",
    "    max_tokens=None,\n",
    "    timeout=None,\n",
    "    max_retries=2,\n",
    "    # other params...\n",
    ")"
   ]
  },
  {
   "cell_type": "code",
   "execution_count": null,
   "id": "9f93b6c3-e6af-4342-ad74-d84618049d42",
   "metadata": {},
   "outputs": [],
   "source": []
  }
 ],
 "metadata": {
  "kernelspec": {
   "display_name": "Python 3 (ipykernel)",
   "language": "python",
   "name": "python3"
  },
  "language_info": {
   "codemirror_mode": {
    "name": "ipython",
    "version": 3
   },
   "file_extension": ".py",
   "mimetype": "text/x-python",
   "name": "python",
   "nbconvert_exporter": "python",
   "pygments_lexer": "ipython3",
   "version": "3.12.7"
  }
 },
 "nbformat": 4,
 "nbformat_minor": 5
}
